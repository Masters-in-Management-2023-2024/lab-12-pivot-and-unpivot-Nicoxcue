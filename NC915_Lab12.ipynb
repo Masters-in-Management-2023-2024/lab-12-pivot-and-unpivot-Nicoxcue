{
  "nbformat": 4,
  "nbformat_minor": 0,
  "metadata": {
    "colab": {
      "provenance": []
    },
    "kernelspec": {
      "name": "python3",
      "display_name": "Python 3"
    },
    "language_info": {
      "name": "python"
    }
  },
  "cells": [
    {
      "cell_type": "code",
      "execution_count": null,
      "metadata": {
        "id": "8dYoLF3_u8ic"
      },
      "outputs": [],
      "source": [
        "import polars as pl"
      ]
    },
    {
      "cell_type": "code",
      "source": [
        "#Question 1a\n",
        "from google.colab import drive\n",
        "drive.mount('/content/drive')\n",
        "\n",
        "file_path = \"/content/drive/MyDrive/Colab Notebooks/economics_long.csv\"\n",
        "\n",
        "# Load the data from the CSV file into a Polars DataFrame\n",
        "economics_long = pl.read_csv(file_path)\n",
        "\n",
        "economics_wide = economics_long.pivot(\n",
        "    values=\"value\",\n",
        "    index=\"date\",\n",
        "    on=\"variable\"\n",
        ")\n",
        "\n",
        "economics_wide"
      ],
      "metadata": {
        "colab": {
          "base_uri": "https://localhost:8080/",
          "height": 460
        },
        "id": "OfIPg6fVx8oR",
        "outputId": "9cb3cc66-c631-4b64-b9c2-a84eea5b04f9"
      },
      "execution_count": null,
      "outputs": [
        {
          "output_type": "stream",
          "name": "stdout",
          "text": [
            "Drive already mounted at /content/drive; to attempt to forcibly remount, call drive.mount(\"/content/drive\", force_remount=True).\n"
          ]
        },
        {
          "output_type": "execute_result",
          "data": {
            "text/plain": [
              "shape: (574, 6)\n",
              "┌────────────┬─────────┬────────────┬─────────┬─────────┬──────────┐\n",
              "│ date       ┆ pce     ┆ pop        ┆ psavert ┆ uempmed ┆ unemploy │\n",
              "│ ---        ┆ ---     ┆ ---        ┆ ---     ┆ ---     ┆ ---      │\n",
              "│ str        ┆ f64     ┆ f64        ┆ f64     ┆ f64     ┆ f64      │\n",
              "╞════════════╪═════════╪════════════╪═════════╪═════════╪══════════╡\n",
              "│ 1967-07-01 ┆ 506.7   ┆ 198712.0   ┆ 12.6    ┆ 4.5     ┆ 2944.0   │\n",
              "│ 1967-08-01 ┆ 509.8   ┆ 198911.0   ┆ 12.6    ┆ 4.7     ┆ 2945.0   │\n",
              "│ 1967-09-01 ┆ 515.6   ┆ 199113.0   ┆ 11.9    ┆ 4.6     ┆ 2958.0   │\n",
              "│ 1967-10-01 ┆ 512.2   ┆ 199311.0   ┆ 12.9    ┆ 4.9     ┆ 3143.0   │\n",
              "│ 1967-11-01 ┆ 517.4   ┆ 199498.0   ┆ 12.8    ┆ 4.7     ┆ 3066.0   │\n",
              "│ …          ┆ …       ┆ …          ┆ …       ┆ …       ┆ …        │\n",
              "│ 2014-12-01 ┆ 12062.0 ┆ 319746.157 ┆ 7.6     ┆ 12.9    ┆ 8717.0   │\n",
              "│ 2015-01-01 ┆ 12046.0 ┆ 319928.646 ┆ 7.7     ┆ 13.2    ┆ 8903.0   │\n",
              "│ 2015-02-01 ┆ 12082.4 ┆ 320074.511 ┆ 7.9     ┆ 12.9    ┆ 8610.0   │\n",
              "│ 2015-03-01 ┆ 12158.3 ┆ 320230.786 ┆ 7.4     ┆ 12.0    ┆ 8504.0   │\n",
              "│ 2015-04-01 ┆ 12193.8 ┆ 320402.295 ┆ 7.6     ┆ 11.5    ┆ 8526.0   │\n",
              "└────────────┴─────────┴────────────┴─────────┴─────────┴──────────┘"
            ],
            "text/html": [
              "<div><style>\n",
              ".dataframe > thead > tr,\n",
              ".dataframe > tbody > tr {\n",
              "  text-align: right;\n",
              "  white-space: pre-wrap;\n",
              "}\n",
              "</style>\n",
              "<small>shape: (574, 6)</small><table border=\"1\" class=\"dataframe\"><thead><tr><th>date</th><th>pce</th><th>pop</th><th>psavert</th><th>uempmed</th><th>unemploy</th></tr><tr><td>str</td><td>f64</td><td>f64</td><td>f64</td><td>f64</td><td>f64</td></tr></thead><tbody><tr><td>&quot;1967-07-01&quot;</td><td>506.7</td><td>198712.0</td><td>12.6</td><td>4.5</td><td>2944.0</td></tr><tr><td>&quot;1967-08-01&quot;</td><td>509.8</td><td>198911.0</td><td>12.6</td><td>4.7</td><td>2945.0</td></tr><tr><td>&quot;1967-09-01&quot;</td><td>515.6</td><td>199113.0</td><td>11.9</td><td>4.6</td><td>2958.0</td></tr><tr><td>&quot;1967-10-01&quot;</td><td>512.2</td><td>199311.0</td><td>12.9</td><td>4.9</td><td>3143.0</td></tr><tr><td>&quot;1967-11-01&quot;</td><td>517.4</td><td>199498.0</td><td>12.8</td><td>4.7</td><td>3066.0</td></tr><tr><td>&hellip;</td><td>&hellip;</td><td>&hellip;</td><td>&hellip;</td><td>&hellip;</td><td>&hellip;</td></tr><tr><td>&quot;2014-12-01&quot;</td><td>12062.0</td><td>319746.157</td><td>7.6</td><td>12.9</td><td>8717.0</td></tr><tr><td>&quot;2015-01-01&quot;</td><td>12046.0</td><td>319928.646</td><td>7.7</td><td>13.2</td><td>8903.0</td></tr><tr><td>&quot;2015-02-01&quot;</td><td>12082.4</td><td>320074.511</td><td>7.9</td><td>12.9</td><td>8610.0</td></tr><tr><td>&quot;2015-03-01&quot;</td><td>12158.3</td><td>320230.786</td><td>7.4</td><td>12.0</td><td>8504.0</td></tr><tr><td>&quot;2015-04-01&quot;</td><td>12193.8</td><td>320402.295</td><td>7.6</td><td>11.5</td><td>8526.0</td></tr></tbody></table></div>"
            ]
          },
          "metadata": {},
          "execution_count": 7
        }
      ]
    },
    {
      "cell_type": "code",
      "source": [
        "#Question 1b\n",
        "median_unemploy = (\n",
        "    economics_wide\n",
        "    .filter(pl.col(\"date\") >= \"2010-01-01\")\n",
        "    .select(pl.col(\"unemploy\").median())\n",
        "    .item()\n",
        ")\n",
        "\n",
        "print(f\"The median unemployment for 2010-01-01 and beyond is: {median_unemploy}\")"
      ],
      "metadata": {
        "id": "pYcNmZpOy0TH",
        "colab": {
          "base_uri": "https://localhost:8080/"
        },
        "outputId": "c790a87e-4ab4-4cb9-f981-ef494e1b5f76"
      },
      "execution_count": null,
      "outputs": [
        {
          "output_type": "stream",
          "name": "stdout",
          "text": [
            "The median unemployment for 2010-01-01 and beyond is: 12471.0\n"
          ]
        }
      ]
    },
    {
      "cell_type": "code",
      "source": [
        "#Question 2a\n",
        "from google.colab import drive\n",
        "import polars as pl\n",
        "import io\n",
        "\n",
        "\n",
        "\n",
        "file_path = \"/content/drive/MyDrive/Colab Notebooks/AirPassengers.txt\"\n",
        "\n",
        "\n",
        "with open(file_path, 'r') as f:\n",
        "    file_content = f.read()\n",
        "\n",
        "\n",
        "lines = file_content.strip().split('\\n')\n",
        "header = lines[0].split()\n",
        "data_rows = [line.split() for line in lines[1:]]\n",
        "\n",
        "\n",
        "data = []\n",
        "for row in data_rows:\n",
        "    row_dict = {header[i]: row[i] for i in range(len(header))}\n",
        "    data.append(row_dict)\n",
        "\n",
        "\n",
        "air = pl.DataFrame(data)\n",
        "\n",
        "\n",
        "if \"Year\" in air.columns and \"year\" not in air.columns:\n",
        "    air = air.rename({\"Year\": \"year\"})\n",
        "\n",
        "\n",
        "air_passengers_long = air.unpivot(\n",
        "    index=\"year\",\n",
        "    on=[c for c in air.columns if c != \"year\"],\n",
        "    variable_name=\"month\",\n",
        "    value_name=\"passengers\"\n",
        ").with_columns(\n",
        "    pl.col(\"passengers\").cast(pl.Int64)\n",
        ")\n",
        "\n",
        "\n",
        "print(\"Original shape:\", air.shape)\n",
        "print(\"Long shape:\", air_passengers_long.shape)\n",
        "print(air_passengers_long.head())\n",
        "\n",
        "\n",
        "air_passengers_long"
      ],
      "metadata": {
        "colab": {
          "base_uri": "https://localhost:8080/",
          "height": 686
        },
        "id": "nX5gNH4u0XPK",
        "outputId": "16ca48f4-22e9-4e46-aeb6-2779996770c7"
      },
      "execution_count": 25,
      "outputs": [
        {
          "output_type": "stream",
          "name": "stdout",
          "text": [
            "Original shape: (12, 13)\n",
            "Long shape: (144, 3)\n",
            "shape: (5, 3)\n",
            "┌──────┬───────┬────────────┐\n",
            "│ year ┆ month ┆ passengers │\n",
            "│ ---  ┆ ---   ┆ ---        │\n",
            "│ str  ┆ str   ┆ i64        │\n",
            "╞══════╪═══════╪════════════╡\n",
            "│ 1949 ┆ Jan   ┆ 112        │\n",
            "│ 1950 ┆ Jan   ┆ 115        │\n",
            "│ 1951 ┆ Jan   ┆ 145        │\n",
            "│ 1952 ┆ Jan   ┆ 171        │\n",
            "│ 1953 ┆ Jan   ┆ 196        │\n",
            "└──────┴───────┴────────────┘\n"
          ]
        },
        {
          "output_type": "execute_result",
          "data": {
            "text/plain": [
              "shape: (144, 3)\n",
              "┌──────┬───────┬────────────┐\n",
              "│ year ┆ month ┆ passengers │\n",
              "│ ---  ┆ ---   ┆ ---        │\n",
              "│ str  ┆ str   ┆ i64        │\n",
              "╞══════╪═══════╪════════════╡\n",
              "│ 1949 ┆ Jan   ┆ 112        │\n",
              "│ 1950 ┆ Jan   ┆ 115        │\n",
              "│ 1951 ┆ Jan   ┆ 145        │\n",
              "│ 1952 ┆ Jan   ┆ 171        │\n",
              "│ 1953 ┆ Jan   ┆ 196        │\n",
              "│ …    ┆ …     ┆ …          │\n",
              "│ 1956 ┆ Dec   ┆ 306        │\n",
              "│ 1957 ┆ Dec   ┆ 336        │\n",
              "│ 1958 ┆ Dec   ┆ 337        │\n",
              "│ 1959 ┆ Dec   ┆ 405        │\n",
              "│ 1960 ┆ Dec   ┆ 432        │\n",
              "└──────┴───────┴────────────┘"
            ],
            "text/html": [
              "<div><style>\n",
              ".dataframe > thead > tr,\n",
              ".dataframe > tbody > tr {\n",
              "  text-align: right;\n",
              "  white-space: pre-wrap;\n",
              "}\n",
              "</style>\n",
              "<small>shape: (144, 3)</small><table border=\"1\" class=\"dataframe\"><thead><tr><th>year</th><th>month</th><th>passengers</th></tr><tr><td>str</td><td>str</td><td>i64</td></tr></thead><tbody><tr><td>&quot;1949&quot;</td><td>&quot;Jan&quot;</td><td>112</td></tr><tr><td>&quot;1950&quot;</td><td>&quot;Jan&quot;</td><td>115</td></tr><tr><td>&quot;1951&quot;</td><td>&quot;Jan&quot;</td><td>145</td></tr><tr><td>&quot;1952&quot;</td><td>&quot;Jan&quot;</td><td>171</td></tr><tr><td>&quot;1953&quot;</td><td>&quot;Jan&quot;</td><td>196</td></tr><tr><td>&hellip;</td><td>&hellip;</td><td>&hellip;</td></tr><tr><td>&quot;1956&quot;</td><td>&quot;Dec&quot;</td><td>306</td></tr><tr><td>&quot;1957&quot;</td><td>&quot;Dec&quot;</td><td>336</td></tr><tr><td>&quot;1958&quot;</td><td>&quot;Dec&quot;</td><td>337</td></tr><tr><td>&quot;1959&quot;</td><td>&quot;Dec&quot;</td><td>405</td></tr><tr><td>&quot;1960&quot;</td><td>&quot;Dec&quot;</td><td>432</td></tr></tbody></table></div>"
            ]
          },
          "metadata": {},
          "execution_count": 25
        }
      ]
    },
    {
      "cell_type": "code",
      "source": [
        "#Question 2b\n",
        "std_passengers = (\n",
        "    air_passengers_long\n",
        "    .filter((pl.col(\"year\").cast(pl.Int64) >= 1955) & (pl.col(\"year\").cast(pl.Int64) <= 1960))\n",
        "    .select(pl.col(\"passengers\").std())\n",
        "    .item()\n",
        ")\n",
        "\n",
        "print(f\"The standard deviation of airline passengers between 1955 and 1960 is: {std_passengers:.2f}\")"
      ],
      "metadata": {
        "colab": {
          "base_uri": "https://localhost:8080/"
        },
        "id": "kG7i2FW61ZyY",
        "outputId": "a465b505-ee42-4e0c-ce98-c625b32f17cd"
      },
      "execution_count": 24,
      "outputs": [
        {
          "output_type": "stream",
          "name": "stdout",
          "text": [
            "The standard deviation of airline passengers between 1955 and 1960 is: 86.44\n"
          ]
        }
      ]
    },
    {
      "cell_type": "code",
      "source": [
        "#Question 3a\n",
        "from google.colab import drive\n",
        "\n",
        "file_path = \"/content/drive/MyDrive/Colab Notebooks/table2.csv\"\n",
        "\n",
        "\n",
        "table2 = pl.read_csv(file_path)\n",
        "\n",
        "print(\"Original data:\")\n",
        "print(table2.head())\n",
        "\n",
        "table2_wide = table2.pivot(\n",
        "    values=\"count\",\n",
        "    index=[\"country\", \"year\"],\n",
        "    columns=\"type\"\n",
        ")\n",
        "\n",
        "table2_wide"
      ],
      "metadata": {
        "colab": {
          "base_uri": "https://localhost:8080/",
          "height": 546
        },
        "id": "xhVZkTPy1n3i",
        "outputId": "96111525-734c-48d3-9801-30e5685347ba"
      },
      "execution_count": 26,
      "outputs": [
        {
          "output_type": "stream",
          "name": "stdout",
          "text": [
            "Original data:\n",
            "shape: (5, 5)\n",
            "┌──────────┬─────────────┬──────┬────────────┬──────────┐\n",
            "│ rownames ┆ country     ┆ year ┆ type       ┆ count    │\n",
            "│ ---      ┆ ---         ┆ ---  ┆ ---        ┆ ---      │\n",
            "│ i64      ┆ str         ┆ i64  ┆ str        ┆ i64      │\n",
            "╞══════════╪═════════════╪══════╪════════════╪══════════╡\n",
            "│ 1        ┆ Afghanistan ┆ 1999 ┆ cases      ┆ 745      │\n",
            "│ 2        ┆ Afghanistan ┆ 1999 ┆ population ┆ 19987071 │\n",
            "│ 3        ┆ Afghanistan ┆ 2000 ┆ cases      ┆ 2666     │\n",
            "│ 4        ┆ Afghanistan ┆ 2000 ┆ population ┆ 20595360 │\n",
            "│ 5        ┆ Brazil      ┆ 1999 ┆ cases      ┆ 37737    │\n",
            "└──────────┴─────────────┴──────┴────────────┴──────────┘\n"
          ]
        },
        {
          "output_type": "stream",
          "name": "stderr",
          "text": [
            "/tmp/ipython-input-1824952141.py:12: DeprecationWarning: The argument `columns` for `DataFrame.pivot` is deprecated. It has been renamed to `on`.\n",
            "  table2_wide = table2.pivot(\n"
          ]
        },
        {
          "output_type": "execute_result",
          "data": {
            "text/plain": [
              "shape: (6, 4)\n",
              "┌─────────────┬──────┬────────┬────────────┐\n",
              "│ country     ┆ year ┆ cases  ┆ population │\n",
              "│ ---         ┆ ---  ┆ ---    ┆ ---        │\n",
              "│ str         ┆ i64  ┆ i64    ┆ i64        │\n",
              "╞═════════════╪══════╪════════╪════════════╡\n",
              "│ Afghanistan ┆ 1999 ┆ 745    ┆ 19987071   │\n",
              "│ Afghanistan ┆ 2000 ┆ 2666   ┆ 20595360   │\n",
              "│ Brazil      ┆ 1999 ┆ 37737  ┆ 172006362  │\n",
              "│ Brazil      ┆ 2000 ┆ 80488  ┆ 174504898  │\n",
              "│ China       ┆ 1999 ┆ 212258 ┆ 1272915272 │\n",
              "│ China       ┆ 2000 ┆ 213766 ┆ 1280428583 │\n",
              "└─────────────┴──────┴────────┴────────────┘"
            ],
            "text/html": [
              "<div><style>\n",
              ".dataframe > thead > tr,\n",
              ".dataframe > tbody > tr {\n",
              "  text-align: right;\n",
              "  white-space: pre-wrap;\n",
              "}\n",
              "</style>\n",
              "<small>shape: (6, 4)</small><table border=\"1\" class=\"dataframe\"><thead><tr><th>country</th><th>year</th><th>cases</th><th>population</th></tr><tr><td>str</td><td>i64</td><td>i64</td><td>i64</td></tr></thead><tbody><tr><td>&quot;Afghanistan&quot;</td><td>1999</td><td>745</td><td>19987071</td></tr><tr><td>&quot;Afghanistan&quot;</td><td>2000</td><td>2666</td><td>20595360</td></tr><tr><td>&quot;Brazil&quot;</td><td>1999</td><td>37737</td><td>172006362</td></tr><tr><td>&quot;Brazil&quot;</td><td>2000</td><td>80488</td><td>174504898</td></tr><tr><td>&quot;China&quot;</td><td>1999</td><td>212258</td><td>1272915272</td></tr><tr><td>&quot;China&quot;</td><td>2000</td><td>213766</td><td>1280428583</td></tr></tbody></table></div>"
            ]
          },
          "metadata": {},
          "execution_count": 26
        }
      ]
    },
    {
      "cell_type": "code",
      "source": [
        "#Question 3b\n",
        "table2_with_ratio = table2_wide.with_columns(\n",
        "    (pl.col(\"cases\") / pl.col(\"population\")).alias(\"ratio\")\n",
        ")\n",
        "\n",
        "# 2. Filter for year = 1999\n",
        "year_1999 = table2_with_ratio.filter(pl.col(\"year\") == 1999)\n",
        "\n",
        "# 3. Find the country with the highest ratio\n",
        "highest_ratio_country = (\n",
        "    year_1999.sort(\"ratio\", descending=True)\n",
        "    .select(\"country\")\n",
        "    .head(1)  # Get the first row as a DataFrame\n",
        "    .item()   # Extract the scalar value from the single-cell DataFrame\n",
        ")\n",
        "\n",
        "print(\"Data for 1999 with ratios:\")\n",
        "print(year_1999)\n",
        "\n",
        "print(f\"\\nThe country with the highest cases/population ratio in 1999 is: {highest_ratio_country}\")"
      ],
      "metadata": {
        "colab": {
          "base_uri": "https://localhost:8080/"
        },
        "id": "BzYP2yE52kEW",
        "outputId": "86f59625-0eca-4259-bd46-bec6af0b5320"
      },
      "execution_count": 29,
      "outputs": [
        {
          "output_type": "stream",
          "name": "stdout",
          "text": [
            "Data for 1999 with ratios:\n",
            "shape: (3, 5)\n",
            "┌─────────────┬──────┬────────┬────────────┬──────────┐\n",
            "│ country     ┆ year ┆ cases  ┆ population ┆ ratio    │\n",
            "│ ---         ┆ ---  ┆ ---    ┆ ---        ┆ ---      │\n",
            "│ str         ┆ i64  ┆ i64    ┆ i64        ┆ f64      │\n",
            "╞═════════════╪══════╪════════╪════════════╪══════════╡\n",
            "│ Afghanistan ┆ 1999 ┆ 745    ┆ 19987071   ┆ 0.000037 │\n",
            "│ Brazil      ┆ 1999 ┆ 37737  ┆ 172006362  ┆ 0.000219 │\n",
            "│ China       ┆ 1999 ┆ 212258 ┆ 1272915272 ┆ 0.000167 │\n",
            "└─────────────┴──────┴────────┴────────────┴──────────┘\n",
            "\n",
            "The country with the highest cases/population ratio in 1999 is: Brazil\n"
          ]
        }
      ]
    }
  ]
}